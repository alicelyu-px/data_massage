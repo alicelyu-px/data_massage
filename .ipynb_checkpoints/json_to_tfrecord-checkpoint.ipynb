{
 "cells": [
  {
   "cell_type": "code",
   "execution_count": 1,
   "metadata": {},
   "outputs": [],
   "source": [
    "import json"
   ]
  },
  {
   "cell_type": "code",
   "execution_count": 2,
   "metadata": {},
   "outputs": [],
   "source": [
    "original_anno = json.load(open(\"via_project_3Jan2019_10h13m+(1).json\"))"
   ]
  },
  {
   "cell_type": "code",
   "execution_count": 3,
   "metadata": {},
   "outputs": [],
   "source": [
    "anno = json.load(open('via_region_data.json'))\n",
    "anno = list(anno.values())"
   ]
  },
  {
   "cell_type": "code",
   "execution_count": 4,
   "metadata": {},
   "outputs": [
    {
     "data": {
      "text/plain": [
       "[{'file_attributes': {},\n",
       "  'filename': '114038-6.png',\n",
       "  'regions': [{'region_attributes': {'物体': '瞳孔'},\n",
       "    'shape_attributes': {'cx': 822,\n",
       "     'cy': 542,\n",
       "     'name': 'ellipse',\n",
       "     'rx': 156,\n",
       "     'ry': 156}},\n",
       "   {'region_attributes': {'物体': '角膜混浊'},\n",
       "    'shape_attributes': {'cx': 864, 'cy': 475, 'name': 'point'}},\n",
       "   {'region_attributes': {'物体': '眼底混浊'},\n",
       "    'shape_attributes': {'cx': 846, 'cy': 522, 'name': 'point'}},\n",
       "   {'region_attributes': {'物体': '斑块'},\n",
       "    'shape_attributes': {'all_points_x': [827,\n",
       "      868,\n",
       "      899,\n",
       "      910,\n",
       "      898,\n",
       "      887,\n",
       "      810,\n",
       "      808,\n",
       "      808],\n",
       "     'all_points_y': [613, 609, 600, 622, 655, 673, 690, 644, 620],\n",
       "     'name': 'polygon'}},\n",
       "   {'region_attributes': {'物体': '皮质'},\n",
       "    'shape_attributes': {'all_points_x': [911, 911, 925],\n",
       "     'all_points_y': [509, 538, 542],\n",
       "     'name': 'polyline'}}],\n",
       "  'size': 3890575},\n",
       " {'file_attributes': {},\n",
       "  'filename': '2.512138-4png.png',\n",
       "  'regions': [{'region_attributes': {'物体': '角膜混浊'},\n",
       "    'shape_attributes': {'cx': 1003, 'cy': 403, 'name': 'point'}},\n",
       "   {'region_attributes': {'物体': '斑块'},\n",
       "    'shape_attributes': {'cx': 928, 'cy': 422, 'name': 'point'}},\n",
       "   {'region_attributes': {'物体': '斑块'},\n",
       "    'shape_attributes': {'cx': 886, 'cy': 462, 'name': 'point'}},\n",
       "   {'region_attributes': {'物体': '斑块'},\n",
       "    'shape_attributes': {'cx': 937, 'cy': 481, 'name': 'point'}},\n",
       "   {'region_attributes': {'物体': '瞳孔'},\n",
       "    'shape_attributes': {'cx': 938, 'cy': 352, 'name': 'circle', 'r': 137}},\n",
       "   {'region_attributes': {'物体': '皮质'},\n",
       "    'shape_attributes': {'all_points_x': [894, 894, 907, 923],\n",
       "     'all_points_y': [249, 298, 297, 319],\n",
       "     'name': 'polyline'}}],\n",
       "  'size': 2952189}]"
      ]
     },
     "execution_count": 4,
     "metadata": {},
     "output_type": "execute_result"
    }
   ],
   "source": [
    "anno"
   ]
  },
  {
   "cell_type": "code",
   "execution_count": null,
   "metadata": {},
   "outputs": [],
   "source": []
  }
 ],
 "metadata": {
  "kernelspec": {
   "display_name": "Python 3",
   "language": "python",
   "name": "python3"
  },
  "language_info": {
   "codemirror_mode": {
    "name": "ipython",
    "version": 3
   },
   "file_extension": ".py",
   "mimetype": "text/x-python",
   "name": "python",
   "nbconvert_exporter": "python",
   "pygments_lexer": "ipython3",
   "version": "3.5.5"
  }
 },
 "nbformat": 4,
 "nbformat_minor": 2
}
